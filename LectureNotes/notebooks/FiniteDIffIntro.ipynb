{
 "cells": [
  {
   "cell_type": "markdown",
   "id": "6bb34536",
   "metadata": {},
   "source": [
    "# Finite Differences\n",
    "\n",
    "We now begin finite differences.  At this stage you should be familiar with \n",
    "\n",
    "- Taylor Series\n",
    "- Using Python to solve sparse matrix equations\n",
    "- Different norms to use for measuring vector magnitude.\n"
   ]
  }
 ],
 "metadata": {
  "language_info": {
   "name": "python"
  }
 },
 "nbformat": 4,
 "nbformat_minor": 5
}
